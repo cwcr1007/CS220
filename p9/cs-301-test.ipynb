{
 "cells": [
  {
   "cell_type": "code",
   "execution_count": 1,
   "metadata": {},
   "outputs": [],
   "source": [
    "# project: p9\n",
    "# submitter: zdai38\n",
    "# partner: none"
   ]
  },
  {
   "cell_type": "code",
   "execution_count": 2,
   "metadata": {},
   "outputs": [],
   "source": [
    "import os, json, csv"
   ]
  },
  {
   "cell_type": "code",
   "execution_count": 3,
   "metadata": {},
   "outputs": [
    {
     "data": {
      "text/plain": [
       "['sample_reviews.json',\n",
       " 'sample_reviews.csv',\n",
       " 'review5.json',\n",
       " 'review5.csv',\n",
       " 'review4.json',\n",
       " 'review4.csv',\n",
       " 'review3.json',\n",
       " 'review3.csv',\n",
       " 'review2.json',\n",
       " 'review2.csv',\n",
       " 'review1.json',\n",
       " 'review1.csv',\n",
       " 'products.json']"
      ]
     },
     "execution_count": 3,
     "metadata": {},
     "output_type": "execute_result"
    }
   ],
   "source": [
    "#Q1: What are the names of the files present in the data directory?\n",
    "def get_dir(data):\n",
    "    return sorted(os.listdir(data), reverse = True)\n",
    "\n",
    "get_dir(\"data\")"
   ]
  },
  {
   "cell_type": "code",
   "execution_count": 4,
   "metadata": {},
   "outputs": [
    {
     "data": {
      "text/plain": [
       "['data\\\\sample_reviews.json',\n",
       " 'data\\\\sample_reviews.csv',\n",
       " 'data\\\\review5.json',\n",
       " 'data\\\\review5.csv',\n",
       " 'data\\\\review4.json',\n",
       " 'data\\\\review4.csv',\n",
       " 'data\\\\review3.json',\n",
       " 'data\\\\review3.csv',\n",
       " 'data\\\\review2.json',\n",
       " 'data\\\\review2.csv',\n",
       " 'data\\\\review1.json',\n",
       " 'data\\\\review1.csv',\n",
       " 'data\\\\products.json']"
      ]
     },
     "execution_count": 4,
     "metadata": {},
     "output_type": "execute_result"
    }
   ],
   "source": [
    "#Q2: What are the paths of all the files in the data directory?\n",
    "def get_path(data):\n",
    "    path = []\n",
    "    for i in get_dir(data):\n",
    "        path.append(os.path.join(\"data\", i))\n",
    "    return sorted(path, reverse = True)\n",
    "get_path(\"data\")"
   ]
  },
  {
   "cell_type": "code",
   "execution_count": 5,
   "metadata": {},
   "outputs": [
    {
     "data": {
      "text/plain": [
       "['data\\\\sample_reviews.json',\n",
       " 'data\\\\review5.json',\n",
       " 'data\\\\review4.json',\n",
       " 'data\\\\review3.json',\n",
       " 'data\\\\review2.json',\n",
       " 'data\\\\review1.json',\n",
       " 'data\\\\products.json']"
      ]
     },
     "execution_count": 5,
     "metadata": {},
     "output_type": "execute_result"
    }
   ],
   "source": [
    "#Q3: What are the paths of all the JSON files present in data directory?\n",
    "def get_json_path(data):\n",
    "    path = []\n",
    "    for i in get_dir(data):\n",
    "        if i[-4:] == \"json\":\n",
    "            path.append(os.path.join(\"data\", i))\n",
    "    return sorted(path, reverse = True)\n",
    "get_json_path(\"data\")"
   ]
  },
  {
   "cell_type": "code",
   "execution_count": 6,
   "metadata": {},
   "outputs": [
    {
     "data": {
      "text/plain": [
       "['data\\\\review5.json',\n",
       " 'data\\\\review5.csv',\n",
       " 'data\\\\review4.json',\n",
       " 'data\\\\review4.csv',\n",
       " 'data\\\\review3.json',\n",
       " 'data\\\\review3.csv',\n",
       " 'data\\\\review2.json',\n",
       " 'data\\\\review2.csv',\n",
       " 'data\\\\review1.json',\n",
       " 'data\\\\review1.csv']"
      ]
     },
     "execution_count": 6,
     "metadata": {},
     "output_type": "execute_result"
    }
   ],
   "source": [
    "#Q4: What are the paths of all the files present in data directory, that begin with the phrase 'review'?\n",
    "def get_review_path(data):\n",
    "    path = []\n",
    "    for i in get_dir(data):\n",
    "        if i[:6] == \"review\":\n",
    "            path.append(os.path.join(\"data\", i))\n",
    "    return sorted(path, reverse = True)\n",
    "get_review_path(\"data\")"
   ]
  },
  {
   "cell_type": "code",
   "execution_count": 7,
   "metadata": {},
   "outputs": [
    {
     "data": {
      "text/plain": [
       "{'B00QFQRELG': 'Amazon 9W PowerFast Official OEM USB Charger and Power Adapter for Fire Tablets and Kindle eReaders',\n",
       " 'B01BH83OOM': 'Amazon Tap Smart Assistant Alexa enabled (black) Brand New',\n",
       " 'B00ZV9PXP2': 'All-New Kindle E-reader - Black, 6\" Glare-Free Touchscreen Display, Wi-Fi - Includes Special Offers',\n",
       " 'B0751RGYJV': 'Amazon Echo (2nd Generation) Smart Assistant Oak Finish Priority Shipping',\n",
       " 'B00IOY8XWQ': 'Kindle Voyage E-reader, 6 High-Resolution Display (300 ppi) with Adaptive Built-in Light, PagePress Sensors, Wi-Fi - Includes Special Offers',\n",
       " 'B0752151W6': 'All-new Echo (2nd Generation) with improved sound, powered by Dolby, and a new design Walnut Finish',\n",
       " 'B018Y226XO': 'Fire Kids Edition Tablet, 7 Display, Wi-Fi, 16 GB, Pink Kid-Proof Case',\n",
       " 'B01ACEKAJY': 'All-New Fire HD 8 Tablet, 8 HD Display, Wi-Fi, 32 GB - Includes Special Offers, Black',\n",
       " 'B01AHB9CYG': 'All-New Fire HD 8 Tablet, 8 HD Display, Wi-Fi, 32 GB - Includes Special Offers, Magenta',\n",
       " 'B01AHB9CN2': 'All-New Fire HD 8 Tablet, 8 HD Display, Wi-Fi, 16 GB - Includes Special Offers, Magenta',\n",
       " 'B00VINDBJK': 'Kindle Oasis E-reader with Leather Charging Cover - Merlot, 6 High-Resolution Display (300 ppi), Wi-Fi - Includes Special Offers',\n",
       " 'B01AHB9C1E': 'Fire HD 8 Tablet with Alexa, 8 HD Display, 32 GB, Tangerine - with Special Offers',\n",
       " 'B018Y229OU': 'Fire Tablet, 7 Display, Wi-Fi, 8 GB - Includes Special Offers, Magenta'}"
      ]
     },
     "execution_count": 7,
     "metadata": {},
     "output_type": "execute_result"
    }
   ],
   "source": [
    "#Q5: What are the products in products.json?\n",
    "def read_json(file_name):\n",
    "    f = open(os.path.join(\"data\", file_name), encoding = \"utf-8\")\n",
    "    json_str = f.read()\n",
    "    f.close()\n",
    "    data = json.loads(json_str)\n",
    "    return data\n",
    "read_json(\"products.json\")"
   ]
  },
  {
   "cell_type": "code",
   "execution_count": 8,
   "metadata": {},
   "outputs": [
    {
     "data": {
      "text/plain": [
       "'I would recommend this product. It works great and ver compact.'"
      ]
     },
     "execution_count": 8,
     "metadata": {},
     "output_type": "execute_result"
    }
   ],
   "source": [
    "#Q6: What is the review text of review with id 84440?\n",
    "def read_csv(file_name):\n",
    "    f = open(os.path.join(\"data\", file_name), encoding = \"utf-8\")\n",
    "    reader = csv.DictReader(f)\n",
    "    data = []\n",
    "    for i in reader:\n",
    "        data.append(i)\n",
    "    f.close()\n",
    "    return data\n",
    "\n",
    "def get_review_with_id_file(id,file_name):\n",
    "    data = read_csv(file_name)\n",
    "    for row in data:\n",
    "        if row[\"review id\"] == id:\n",
    "            return row[\"review text\"]\n",
    "    return None \n",
    "get_review_with_id_file(\"84440\",\"review1.csv\")"
   ]
  },
  {
   "cell_type": "code",
   "execution_count": 9,
   "metadata": {},
   "outputs": [
    {
     "data": {
      "text/plain": [
       "'Loveeeeeeeee........................................'"
      ]
     },
     "execution_count": 9,
     "metadata": {},
     "output_type": "execute_result"
    }
   ],
   "source": [
    "#Q7: What is the review text of review with id 28615?\n",
    "def get_csv_file(data):\n",
    "    file= []\n",
    "    for i in get_dir(data):\n",
    "        if i[-3:] == \"csv\":\n",
    "            file.append(i)\n",
    "    return file\n",
    "\n",
    "def get_review_with_id_in_csv(id):\n",
    "    for i in get_csv_file(\"data\"):\n",
    "        if get_review_with_id_file(id,i) != None:\n",
    "            return get_review_with_id_file(id,i)\n",
    "    return None\n",
    "get_review_with_id_in_csv(\"28615\")"
   ]
  },
  {
   "cell_type": "code",
   "execution_count": 10,
   "metadata": {},
   "outputs": [
    {
     "data": {
      "text/plain": [
       "'review2.csv'"
      ]
     },
     "execution_count": 10,
     "metadata": {},
     "output_type": "execute_result"
    }
   ],
   "source": [
    "#Q8: What file contained the review with id 69273?\n",
    "def get_file_with_id_in_csv(id):\n",
    "    for i in get_csv_file(\"data\"):\n",
    "        if get_review_with_id_file(id,i) != None:\n",
    "            return i\n",
    "    return None\n",
    "get_file_with_id_in_csv(\"69273\")"
   ]
  },
  {
   "cell_type": "code",
   "execution_count": 11,
   "metadata": {},
   "outputs": [
    {
     "data": {
      "text/plain": [
       "{'46663': ['Dmh1589', 'B018Y229OU'],\n",
       " '36363': ['Shoot2thril', 'B018Y229OU'],\n",
       " '15763': ['Barbara', 'B018Y229OU'],\n",
       " '5463': ['Elec8', 'B018Y229OU'],\n",
       " '54066': ['Silvrblur', 'B018Y229OU'],\n",
       " '33466': ['Trish', 'B018Y229OU'],\n",
       " '40869': ['airbear', 'B018Y229OU'],\n",
       " '30569': ['lorphe', 'B018Y229OU'],\n",
       " '89472': ['felix', 'B018Y229OU'],\n",
       " '48272': ['Bull99', 'B018Y229OU']}"
      ]
     },
     "execution_count": 11,
     "metadata": {},
     "output_type": "execute_result"
    }
   ],
   "source": [
    "#Q9: What is the data stored in sample_reviews.json?\n",
    "read_json(\"sample_reviews.json\")"
   ]
  },
  {
   "cell_type": "code",
   "execution_count": 12,
   "metadata": {
    "scrolled": true
   },
   "outputs": [],
   "source": [
    "from collections import namedtuple\n",
    "\n",
    "def get_reviews(csv, json):\n",
    "    list_review = []\n",
    "    Review = namedtuple(\"Review\",[\"id\", \"username\", \"asin\",\"title\",\"text\",\"rating\",\"do_recommend\",\"num_helpful\",\"date\"])\n",
    "    csv_data = read_csv(csv)\n",
    "    json_data = read_json(json)\n",
    "    for j in json_data:\n",
    "        for c in csv_data:\n",
    "            if c[\"review id\"] != \"\" and c[\"review title\"] != \"\" and c[\"review text\"] != \"\" and c[\"review rating\"]!= \"\" and c[\"review date\"] != \"\" and c[\"review date\"]!=None:\n",
    "                if c[\"review id\"] == j and c[\"review rating\"].isdigit():\n",
    "                    list_review.append(Review(int(j), json_data[j][0], json_data[j][1], c[\"review title\"] , c[\"review text\"], int(c[\"review rating\"]), c[\"review do_recommend\"]==\"True\", int(c[\"review num_helpful\"]), c[\"review date\"]))\n",
    "    return list_review"
   ]
  },
  {
   "cell_type": "code",
   "execution_count": 13,
   "metadata": {},
   "outputs": [
    {
     "data": {
      "text/plain": [
       "[Review(id=46663, username='Dmh1589', asin='B018Y229OU', title='Nice for kids', text='Easy to use. Memory fills up fast though. Battery life is decent.', rating=4, do_recommend=True, num_helpful=0, date='2016-12-23'),\n",
       " Review(id=36363, username='Shoot2thril', asin='B018Y229OU', title='Great tablet', text='Great tablet for the price. I already have 3 followers including the hd.', rating=5, do_recommend=True, num_helpful=0, date='2016-12-23'),\n",
       " Review(id=15763, username='Barbara', asin='B018Y229OU', title='Great tablet', text='Excellent tablet. Love the size. Fits perfectly in my purse. I would recommend this tablet.', rating=5, do_recommend=True, num_helpful=0, date='2016-12-23'),\n",
       " Review(id=5463, username='Elec8', asin='B018Y229OU', title='Great budget tablet', text='Great tablet for kids. Good for Netflix and YouTube.', rating=5, do_recommend=True, num_helpful=0, date='2016-12-23'),\n",
       " Review(id=54066, username='Silvrblur', asin='B018Y229OU', title='Great tablet for the price.', text='I bought this tablet for my 9 year old nephew and he loves it. It is easy to setup and very user friendly. Picked up a case for protection.Buy far the best bang for your buck for an entry level tablet.', rating=5, do_recommend=True, num_helpful=0, date='2016-12-23'),\n",
       " Review(id=33466, username='Trish', asin='B018Y229OU', title='Love it', text='My sister in law is in love with this. Best gift ever for her', rating=5, do_recommend=True, num_helpful=0, date='2016-12-23'),\n",
       " Review(id=40869, username='airbear', asin='B018Y229OU', title='Love it', text='Love it so much. So easy to use even for my little kids.', rating=5, do_recommend=True, num_helpful=0, date='2016-12-23'),\n",
       " Review(id=30569, username='lorphe', asin='B018Y229OU', title='Stand Amazon Tablet', text='Works well for the money. Got it from Black Friday deal. User friendly', rating=4, do_recommend=True, num_helpful=0, date='2016-12-23'),\n",
       " Review(id=89472, username='felix', asin='B018Y229OU', title='great ipad', text='i brought this for my kids and no regret. Make sure you buy a case protector along with it.', rating=5, do_recommend=True, num_helpful=0, date='2016-12-23'),\n",
       " Review(id=48272, username='Bull99', asin='B018Y229OU', title='Works great', text='This tablet is so compact and fit in my purse. It works very well.', rating=5, do_recommend=True, num_helpful=0, date='2016-12-23')]"
      ]
     },
     "execution_count": 13,
     "metadata": {},
     "output_type": "execute_result"
    }
   ],
   "source": [
    "#Q10: What is produced by your function get_reviews('sample_reviews.csv', 'sample_reviews.json')?\n",
    "get_reviews('sample_reviews.csv', 'sample_reviews.json')"
   ]
  },
  {
   "cell_type": "code",
   "execution_count": 14,
   "metadata": {},
   "outputs": [
    {
     "data": {
      "text/plain": [
       "[Review(id=46663, username='Dmh1589', asin='B018Y229OU', title='Nice for kids', text='Easy to use. Memory fills up fast though. Battery life is decent.', rating=4, do_recommend=True, num_helpful=0, date='2016-12-23'),\n",
       " Review(id=36363, username='Shoot2thril', asin='B018Y229OU', title='Great tablet', text='Great tablet for the price. I already have 3 followers including the hd.', rating=5, do_recommend=True, num_helpful=0, date='2016-12-23'),\n",
       " Review(id=15763, username='Barbara', asin='B018Y229OU', title='Great tablet', text='Excellent tablet. Love the size. Fits perfectly in my purse. I would recommend this tablet.', rating=5, do_recommend=True, num_helpful=0, date='2016-12-23'),\n",
       " Review(id=5463, username='Elec8', asin='B018Y229OU', title='Great budget tablet', text='Great tablet for kids. Good for Netflix and YouTube.', rating=5, do_recommend=True, num_helpful=0, date='2016-12-23'),\n",
       " Review(id=54066, username='Silvrblur', asin='B018Y229OU', title='Great tablet for the price.', text='I bought this tablet for my 9 year old nephew and he loves it. It is easy to setup and very user friendly. Picked up a case for protection.Buy far the best bang for your buck for an entry level tablet.', rating=5, do_recommend=True, num_helpful=0, date='2016-12-23'),\n",
       " Review(id=33466, username='Trish', asin='B018Y229OU', title='Love it', text='My sister in law is in love with this. Best gift ever for her', rating=5, do_recommend=True, num_helpful=0, date='2016-12-23'),\n",
       " Review(id=40869, username='airbear', asin='B018Y229OU', title='Love it', text='Love it so much. So easy to use even for my little kids.', rating=5, do_recommend=True, num_helpful=0, date='2016-12-23'),\n",
       " Review(id=30569, username='lorphe', asin='B018Y229OU', title='Stand Amazon Tablet', text='Works well for the money. Got it from Black Friday deal. User friendly', rating=4, do_recommend=True, num_helpful=0, date='2016-12-23'),\n",
       " Review(id=89472, username='felix', asin='B018Y229OU', title='great ipad', text='i brought this for my kids and no regret. Make sure you buy a case protector along with it.', rating=5, do_recommend=True, num_helpful=0, date='2016-12-23'),\n",
       " Review(id=48272, username='Bull99', asin='B018Y229OU', title='Works great', text='This tablet is so compact and fit in my purse. It works very well.', rating=5, do_recommend=True, num_helpful=0, date='2016-12-23')]"
      ]
     },
     "execution_count": 14,
     "metadata": {},
     "output_type": "execute_result"
    }
   ],
   "source": [
    "#Q11: What are the first ten Review objects in the list produced by get_reviews('review4.csv', 'review4.json')?\n",
    "get_reviews('review4.csv', 'review4.json')[:10]"
   ]
  },
  {
   "cell_type": "code",
   "execution_count": 15,
   "metadata": {},
   "outputs": [
    {
     "data": {
      "text/plain": [
       "[Review(id=25136, username='Angrydagg', asin='B018Y229OU', title='Nice features for the price.', text='For the price this tables does everything I need. so far.', rating=4, do_recommend=True, num_helpful=0, date='2015-12-30'),\n",
       " Review(id=84039, username='Appman2015', asin='B018Y229OU', title='Great for xmas', text='So far I have bought three of these of tablets and they love it', rating=4, do_recommend=True, num_helpful=1, date='2015-12-30'),\n",
       " Review(id=22239, username='SuzieQ', asin='B018Y229OU', title='great for pre teens', text='i am glad i got them for my grand children they r enjoying them', rating=5, do_recommend=True, num_helpful=0, date='2015-12-31'),\n",
       " Review(id=70842, username='Gracie', asin='B018Y229OU', title='Great kindle', text='Purchase was good. Very easy to set up and use. Clear screen. Easy to charge. Would like more storage.', rating=5, do_recommend=True, num_helpful=0, date='2015-12-31'),\n",
       " Review(id=60542, username='Jeremyjeepster', asin='B018Y229OU', title='Good entry level tablet reader.', text='His is a very economical entry level tablet. Great for kids or for first time users.', rating=4, do_recommend=True, num_helpful=0, date='2015-12-31'),\n",
       " Review(id=9042, username='kinglowe78', asin='B018Y229OU', title='Good Deal', text='Real good deal. Nice present for those who want a tablet', rating=4, do_recommend=True, num_helpful=1, date='2016-01-01'),\n",
       " Review(id=98845, username='jamal', asin='B018Y229OU', title='good basic', text='Good gift for basic Internet use browsing emails .', rating=3, do_recommend=True, num_helpful=1, date='2016-01-01'),\n",
       " Review(id=88545, username='Abc1', asin='B018Y229OU', title='Lots of apps to play with', text='This is a good beginning tablet. Works well and has lots of preloaded apps to start you off.', rating=4, do_recommend=True, num_helpful=2, date='2016-01-01'),\n",
       " Review(id=47345, username='4Thrifty', asin='B018Y229OU', title='Great tablet', text='Well priced. Easy to operate. Fast and efficient. Great product.', rating=4, do_recommend=False, num_helpful=0, date='2016-01-02'),\n",
       " Review(id=54748, username='Sandycat19', asin='B018Y229OU', title='Good product fair price', text='Good for little ones who are just getting started on apps.', rating=5, do_recommend=True, num_helpful=0, date='2016-01-02')]"
      ]
     },
     "execution_count": 15,
     "metadata": {},
     "output_type": "execute_result"
    }
   ],
   "source": [
    "#Q12: What are the last ten Review objects in the list produced by get_reviews('review2.csv', 'review2.json')?\n",
    "get_reviews('review2.csv', 'review2.json')[-10:]"
   ]
  },
  {
   "cell_type": "code",
   "execution_count": 16,
   "metadata": {},
   "outputs": [
    {
     "data": {
      "text/plain": [
       "Review(id=25401, username='Brody16', asin='B018Y229OU', title='Wonderful for our grandsons', text='Love the ease of using them for our grandsons and they enjoyed them for Christmas', rating=1, do_recommend=True, num_helpful=0, date='2017-01-06')"
      ]
     },
     "execution_count": 16,
     "metadata": {},
     "output_type": "execute_result"
    }
   ],
   "source": [
    "#Q13: What is the Review object with review id 25401?\n",
    "def get_obj_with_id(id):\n",
    "    csv_name = get_file_with_id_in_csv(id)\n",
    "    json_name = csv_name[:-3]+\"json\"\n",
    "    list_review = get_reviews(csv_name, json_name)\n",
    "    for i in list_review:\n",
    "        if i.id == int(id):\n",
    "            return i\n",
    "get_obj_with_id(\"25401\")"
   ]
  },
  {
   "cell_type": "code",
   "execution_count": 17,
   "metadata": {},
   "outputs": [
    {
     "data": {
      "text/plain": [
       "Review(id=78626, username='Mijenx', asin='B01AHB9CN2', title='Ended up returning', text='I bought this tablet for my 4 year old daughter. Too many advertisements. I would rather pay more and not have a single ad.', rating=1, do_recommend=False, num_helpful=2, date='2016-11-25')"
      ]
     },
     "execution_count": 17,
     "metadata": {},
     "output_type": "execute_result"
    }
   ],
   "source": [
    "#Q14: What is the Review object with review id 78626?\n",
    "get_obj_with_id(\"78626\")"
   ]
  },
  {
   "cell_type": "code",
   "execution_count": 18,
   "metadata": {
    "scrolled": true
   },
   "outputs": [
    {
     "data": {
      "text/plain": [
       "[Review(id=29325, username='zerofighterblue', asin='B018Y229OU', title='cant live without', text='have a kindle with a broken screen. bought originally for 99.00. now regular price is 49.99 and were on sale black Friday for 34.99. got 2 more.', rating=5, do_recommend=True, num_helpful=1, date='2015-12-10'),\n",
       " Review(id=96947, username='zedog83', asin='B01AHB9CN2', title='Great for kids', text='Bought this for our 6 year old daughter and she uses it daily. She enjoys watching movies on it and playing learning games. So far it has been very durable and battery life has been great.', rating=5, do_recommend=True, num_helpful=0, date='2017-01-18'),\n",
       " Review(id=77499, username='zcraig7', asin='B018Y229OU', title='Awesome picture quality', text='I bought two of these for black friday and the kids love them', rating=5, do_recommend=True, num_helpful=0, date='2016-01-04'),\n",
       " Review(id=48890, username='zarm7', asin='B018Y229OU', title='This is a nice tablet', text='I bought it for reading books. And it works very well for that purpose.', rating=4, do_recommend=True, num_helpful=0, date='2016-09-02'),\n",
       " Review(id=84641, username='zabintenn', asin='B018Y229OU', title='Good tablet', text='I bought this tablet as a gift for my granddaughter to play games on. It is very easy for her to use and it is just the right size.', rating=4, do_recommend=True, num_helpful=0, date='2016-12-15'),\n",
       " Review(id=15839, username='zRoyals', asin='B01AHB9CN2', title='One of the best', text='Easy to use and elegant in design. Perfect Gift for Kids.', rating=5, do_recommend=True, num_helpful=0, date='2016-12-07'),\n",
       " Review(id=48019, username='yuty', asin='B01AHB9CN2', title='Terrifico', text='Great tablet for the price point....especially if you are big Amazon user.Expandable memory is a great feature.', rating=5, do_recommend=True, num_helpful=0, date='2017-01-07'),\n",
       " Review(id=63046, username='yuri', asin='B018Y229OU', title='great and cheap', text='Easy to use. Durable great material very happy with it.', rating=4, do_recommend=True, num_helpful=0, date='2016-01-08'),\n",
       " Review(id=37258, username='yroc', asin='B018Y229OU', title='excellent bargain', text='Excellent bargain and works for all purposes that a tablet is needed for.', rating=5, do_recommend=True, num_helpful=0, date='2015-12-28'),\n",
       " Review(id=64466, username='yosi', asin='B018Y226XO', title='great', text='great table for kids and parents control great gre', rating=5, do_recommend=True, num_helpful=0, date='2016-12-19')]"
      ]
     },
     "execution_count": 18,
     "metadata": {},
     "output_type": "execute_result"
    }
   ],
   "source": [
    "#Q15: List the first ten Review objects in the entire dataset, when the usernames are sorted in the reverse alphabetical order.\n",
    "def review_dataset():\n",
    "    review_list = []\n",
    "    review_json_file = []\n",
    "    for i in get_review_path(\"data\"):\n",
    "        for j in get_json_path(\"data\"):\n",
    "            if i==j:\n",
    "                review_json_file.append(i[5:])\n",
    "    for i in review_json_file:\n",
    "        try:\n",
    "            review_list.extend(get_reviews(i[:-4]+\"csv\", i))\n",
    "        except:\n",
    "            continue\n",
    "    return review_list\n",
    "\n",
    "def extract_username(review):\n",
    "    return review.username\n",
    "\n",
    "sorted(review_dataset(), key =extract_username, reverse = True)[:10]"
   ]
  },
  {
   "cell_type": "code",
   "execution_count": 19,
   "metadata": {},
   "outputs": [],
   "source": [
    "review_list = review_dataset()"
   ]
  },
  {
   "cell_type": "code",
   "execution_count": 20,
   "metadata": {},
   "outputs": [],
   "source": [
    "def bucketize(key):\n",
    "    bucket = {}\n",
    "    for i in range(len(review_list)):\n",
    "        if getattr(review_list[i], key) in bucket:\n",
    "            bucket[getattr(review_list[i], key)].append(review_list[i])\n",
    "        else:\n",
    "                bucket[getattr(review_list[i], key)] = [review_list[i]]\n",
    "    return bucket"
   ]
  },
  {
   "cell_type": "code",
   "execution_count": 21,
   "metadata": {},
   "outputs": [
    {
     "data": {
      "text/plain": [
       "{'Missy': 4,\n",
       " '1234': 4,\n",
       " 'Mike': 4,\n",
       " 'Susan': 4,\n",
       " 'Dave': 4,\n",
       " 'Manny': 3,\n",
       " 'Michael': 3,\n",
       " 'Susie': 3,\n",
       " 'Bill': 3,\n",
       " 'James': 3,\n",
       " 'Lisa': 3,\n",
       " 'Kathy': 3,\n",
       " 'paul': 3,\n",
       " 'steve': 3,\n",
       " 'John': 3,\n",
       " 'Angie': 3,\n",
       " 'Richard': 3,\n",
       " 'Steve': 3,\n",
       " 'Bubba': 3,\n",
       " 'Chris': 3,\n",
       " 'Grandma': 3,\n",
       " 'Frank': 3}"
      ]
     },
     "execution_count": 21,
     "metadata": {},
     "output_type": "execute_result"
    }
   ],
   "source": [
    "#Q16: Who are the top 22 prolific users in this dataset?\n",
    "def count_each_username():\n",
    "    g = {}\n",
    "    bucket = bucketize(\"username\")\n",
    "    for i in bucket:\n",
    "        g[i] = len(bucket[i])\n",
    "    return g\n",
    "count = count_each_username()\n",
    "\n",
    "def get_value(i):\n",
    "    return count[i]\n",
    "\n",
    "def top_prolific_users(rank):\n",
    "    g = {}\n",
    "    sorted_list = sorted(count, key=get_value, reverse = True)\n",
    "    for i in sorted_list[:rank]:\n",
    "        g[i] = count[i]\n",
    "    return g\n",
    "top_prolific_users(22)"
   ]
  },
  {
   "cell_type": "code",
   "execution_count": 22,
   "metadata": {},
   "outputs": [
    {
     "data": {
      "text/plain": [
       "{'Raza': 5,\n",
       " 'Rodge': 6,\n",
       " 'Ellen': 10,\n",
       " 'Karch': 5,\n",
       " 'FrankW': 5,\n",
       " 'Kime': 5,\n",
       " 'Mark': 5,\n",
       " '1Briansapp': 5,\n",
       " 'trouble': 5,\n",
       " 'Stuartc': 8,\n",
       " 'Earthdog': 27}"
      ]
     },
     "execution_count": 22,
     "metadata": {},
     "output_type": "execute_result"
    }
   ],
   "source": [
    "#Q17: Who are the users whose comments have been found helpful at least five times?\n",
    "def num_helpful_by_username_at_least_five():\n",
    "    bucket = bucketize(\"username\")\n",
    "    new = {}\n",
    "    for i in bucket:\n",
    "        num = 0\n",
    "        for r in bucket[i]:\n",
    "            num += getattr(r, \"num_helpful\")\n",
    "        new[i] = num\n",
    "    g = {}\n",
    "    for i in new:\n",
    "        if new[i] >=5:\n",
    "            g[i] = new[i]\n",
    "    return g\n",
    "num_helpful_by_username_at_least_five()"
   ]
  },
  {
   "cell_type": "code",
   "execution_count": 23,
   "metadata": {},
   "outputs": [],
   "source": [
    "%matplotlib inline"
   ]
  },
  {
   "cell_type": "code",
   "execution_count": 24,
   "metadata": {},
   "outputs": [],
   "source": [
    "import pandas as pd\n",
    "\n",
    "def scatter(x, y, xlabel=\"please label me!\", ylabel=\"please label me!\"):\n",
    "    df = pd.DataFrame({\"x\":x, \"y\":y})\n",
    "    ax = df.plot.scatter(x=\"x\", y=\"y\", color=\"black\", fontsize=16, xlim=0, ylim=0)\n",
    "    ax.set_xlabel(xlabel, fontsize=16)\n",
    "    ax.set_ylabel(ylabel, fontsize=16)\n",
    "    ax.get_xaxis().get_major_formatter().set_scientific(False)\n",
    "    ax.get_yaxis().get_major_formatter().set_scientific(False)"
   ]
  },
  {
   "cell_type": "code",
   "execution_count": 25,
   "metadata": {},
   "outputs": [
    {
     "data": {
      "image/png": "[encoded data removed]",
      "text/plain": [
       "<Figure size 432x288 with 1 Axes>"
      ]
     },
     "metadata": {
      "needs_background": "light"
     },
     "output_type": "display_data"
    }
   ],
   "source": [
    "#Q18: What is the relationship between the rating and the average text length?\n",
    "def avg_text_each_rating():\n",
    "    bucket = bucketize('rating')\n",
    "    rating = []\n",
    "    avg_text = []\n",
    "    for i in bucket:\n",
    "        rating.append(i)\n",
    "        length = 0\n",
    "        count = 0\n",
    "        for r in bucket[i]:\n",
    "            length += len(getattr(r, \"text\"))\n",
    "            count += 1\n",
    "        avg = length/count\n",
    "        avg_text.append(avg)\n",
    "    return rating,avg_text\n",
    "avg_text_each_rating()\n",
    "\n",
    "scatter(avg_text_each_rating()[0],\n",
    "        avg_text_each_rating()[1],\n",
    "        xlabel=\"Rating\", ylabel=\"Average text length\")"
   ]
  },
  {
   "cell_type": "code",
   "execution_count": 26,
   "metadata": {},
   "outputs": [
    {
     "data": {
      "image/png": "[encoded data removed]",
      "text/plain": [
       "<Figure size 432x288 with 1 Axes>"
      ]
     },
     "metadata": {
      "needs_background": "light"
     },
     "output_type": "display_data"
    }
   ],
   "source": [
    "#Q19: What is the relationship between the rating and the likelihood of the review being helpful?\n",
    "def likelihood_helpful_each_rating():\n",
    "    bucket = bucketize('rating')\n",
    "    rating = []\n",
    "    prob_helpful = []\n",
    "    for i in bucket:\n",
    "        rating.append(i)\n",
    "        helpful = 0\n",
    "        count = 0\n",
    "        for r in bucket[i]:\n",
    "            if getattr(r, \"num_helpful\") > 0:\n",
    "                helpful += 1\n",
    "            count += 1\n",
    "        prob = helpful/count\n",
    "        prob_helpful.append(prob)\n",
    "    return rating,prob_helpful\n",
    "\n",
    "scatter(likelihood_helpful_each_rating()[0],\n",
    "        likelihood_helpful_each_rating()[1],\n",
    "        xlabel=\"Rating\", ylabel=\"Percentage of helpful reviews\")"
   ]
  },
  {
   "cell_type": "code",
   "execution_count": 27,
   "metadata": {
    "scrolled": true
   },
   "outputs": [
    {
     "data": {
      "text/plain": [
       "{'Amazon 9W PowerFast Official OEM USB Charger and Power Adapter for Fire Tablets and Kindle eReaders': 4.7272727272727275,\n",
       " 'Amazon Tap Smart Assistant Alexa enabled (black) Brand New': 4.6909090909090905,\n",
       " 'All-New Kindle E-reader - Black, 6\" Glare-Free Touchscreen Display, Wi-Fi - Includes Special Offers': 4.590163934426229,\n",
       " 'Amazon Echo (2nd Generation) Smart Assistant Oak Finish Priority Shipping': 5.0,\n",
       " 'Kindle Voyage E-reader, 6 High-Resolution Display (300 ppi) with Adaptive Built-in Light, PagePress Sensors, Wi-Fi - Includes Special Offers': 4.666666666666667,\n",
       " 'All-new Echo (2nd Generation) with improved sound, powered by Dolby, and a new design Walnut Finish': 5.0,\n",
       " 'Fire Kids Edition Tablet, 7 Display, Wi-Fi, 16 GB, Pink Kid-Proof Case': 4.603448275862069,\n",
       " 'All-New Fire HD 8 Tablet, 8 HD Display, Wi-Fi, 32 GB - Includes Special Offers, Black': 4.583333333333333,\n",
       " 'All-New Fire HD 8 Tablet, 8 HD Display, Wi-Fi, 32 GB - Includes Special Offers, Magenta': 4.574468085106383,\n",
       " 'All-New Fire HD 8 Tablet, 8 HD Display, Wi-Fi, 16 GB - Includes Special Offers, Magenta': 4.6,\n",
       " 'Kindle Oasis E-reader with Leather Charging Cover - Merlot, 6 High-Resolution Display (300 ppi), Wi-Fi - Includes Special Offers': 4.866666666666666,\n",
       " 'Fire HD 8 Tablet with Alexa, 8 HD Display, 32 GB, Tangerine - with Special Offers': 3.8333333333333335,\n",
       " 'Fire Tablet, 7 Display, Wi-Fi, 8 GB - Includes Special Offers, Magenta': 4.506039150354019}"
      ]
     },
     "execution_count": 27,
     "metadata": {},
     "output_type": "execute_result"
    }
   ],
   "source": [
    "#Q20: Find the average rating of each product.\n",
    "def avg_rating_each_product():\n",
    "    bucket = bucketize(\"asin\")\n",
    "    product_list = read_json(\"products.json\")\n",
    "    new = {}\n",
    "    for i in product_list:\n",
    "        sum = 0\n",
    "        count = 0\n",
    "        for r in bucket[i]:\n",
    "            sum += getattr(r, \"rating\")\n",
    "            count += 1\n",
    "        avg = sum/count\n",
    "        new[product_list[i]] = avg\n",
    "    return new\n",
    "\n",
    "avg_rating_each_product()  "
   ]
  },
  {
   "cell_type": "code",
   "execution_count": 28,
   "metadata": {
    "scrolled": true
   },
   "outputs": [
    {
     "data": {
      "image/png": "[encoded data removed]",
      "text/plain": [
       "<Figure size 432x288 with 1 Axes>"
      ]
     },
     "metadata": {
      "needs_background": "light"
     },
     "output_type": "display_data"
    }
   ],
   "source": [
    "#Q21: What is the relationship between the number of reviews and the average rating of a product?\n",
    "def likelihood_helpful_each_rating():\n",
    "    bucket = bucketize(\"asin\")\n",
    "    avg_rating_list = avg_rating_each_product()\n",
    "    product_list = read_json(\"products.json\")\n",
    "    num_review = []\n",
    "    avg_rating = []\n",
    "    for i in bucket:\n",
    "        num_review.append(len(bucket[i]))\n",
    "        for j in avg_rating_list:\n",
    "            if j == product_list[i]:\n",
    "                avg_rating.append(avg_rating_list[product_list[i]])\n",
    "    return num_review, avg_rating\n",
    "\n",
    "scatter(likelihood_helpful_each_rating()[0],\n",
    "        likelihood_helpful_each_rating()[1],\n",
    "        xlabel=\"Number of reviews\", ylabel=\"Average rating\")"
   ]
  },
  {
   "cell_type": "code",
   "execution_count": 29,
   "metadata": {},
   "outputs": [
    {
     "data": {
      "image/png": "[encoded data removed]",
      "text/plain": [
       "<Figure size 432x288 with 1 Axes>"
      ]
     },
     "metadata": {
      "needs_background": "light"
     },
     "output_type": "display_data"
    }
   ],
   "source": [
    "#Q22: Remove the outliers from the last plot.\n",
    "def remove_outlier():\n",
    "    num_review = likelihood_helpful_each_rating()[0]\n",
    "    avg_rating = likelihood_helpful_each_rating()[1]\n",
    "    new_num = []\n",
    "    new_avg = []\n",
    "    for i in range(len(num_review)):\n",
    "        if num_review[i]<=500:\n",
    "            new_num.append(num_review[i])\n",
    "            new_avg.append(avg_rating[i])\n",
    "    return new_num,new_avg\n",
    "\n",
    "scatter(remove_outlier()[0],\n",
    "        remove_outlier()[1],\n",
    "        xlabel=\"Number of reviews\", ylabel=\"Average rating\")"
   ]
  },
  {
   "cell_type": "code",
   "execution_count": 30,
   "metadata": {},
   "outputs": [],
   "source": [
    "import matplotlib, pandas\n",
    "\n",
    "def plot_dict(d, label_x, label_y=\"Please Label Me!!!\"):\n",
    "    ax = pandas.Series(d).sort_index().plot.bar(color=\"black\", fontsize=16)\n",
    "    ax.set_xlabel(label_x, fontsize=16)\n",
    "    ax.set_ylabel(label_y, fontsize=16)"
   ]
  },
  {
   "cell_type": "code",
   "execution_count": 31,
   "metadata": {},
   "outputs": [
    {
     "data": {
      "image/png": "[encoded data removed]",
      "text/plain": [
       "<Figure size 432x288 with 1 Axes>"
      ]
     },
     "metadata": {
      "needs_background": "light"
     },
     "output_type": "display_data"
    }
   ],
   "source": [
    "#Q23: What is the relationship between the month and the total number of reviews for the product\n",
    "# 'Fire Kids Edition Tablet, 7 Display, Wi-Fi, 16 GB, Pink Kid-Proof Case' for each month?\n",
    "def month_num_reviews(product_name):\n",
    "    product_list = read_json(\"products.json\")\n",
    "    for i in product_list:\n",
    "        if product_list[i] == product_name:\n",
    "            asin = i\n",
    "    product_list = bucketize(\"asin\")[asin]\n",
    "    count = {}\n",
    "    date_list = []\n",
    "    for r in product_list:\n",
    "         date_list.append(getattr(r, \"date\"))\n",
    "    \n",
    "    for i in date_list:\n",
    "        if i[5:7] not in count:\n",
    "            count[i[5:7]] = 1\n",
    "        else:\n",
    "            count[i[5:7]] += 1\n",
    "    return count\n",
    "    \n",
    "plot_dict(month_num_reviews('Fire Kids Edition Tablet, 7 Display, Wi-Fi, 16 GB, Pink Kid-Proof Case'),\"Month\", \"Number of reviewers\")"
   ]
  },
  {
   "cell_type": "code",
   "execution_count": 32,
   "metadata": {},
   "outputs": [
    {
     "data": {
      "image/png": "[encoded data removed]",
      "text/plain": [
       "<Figure size 432x288 with 1 Axes>"
      ]
     },
     "metadata": {
      "needs_background": "light"
     },
     "output_type": "display_data"
    }
   ],
   "source": [
    "#Q24: What is the relationship between the month and the total number of reviews for the product 'Fire Tablet, 7 Display, Wi-Fi, 8 GB - Includes Special Offers, Magenta' for each month?\n",
    "plot_dict(month_num_reviews('Fire Tablet, 7 Display, Wi-Fi, 8 GB - Includes Special Offers, Magenta'),\"Month\", \"Number of reviewers\")"
   ]
  },
  {
   "cell_type": "code",
   "execution_count": 33,
   "metadata": {},
   "outputs": [],
   "source": [
    "file_list = []\n",
    "def get_all_file_path(directory_path):\n",
    "    for i in os.listdir(directory_path):\n",
    "        dir = os.path.join(directory_path,i)\n",
    "        if os.path.isdir(dir):\n",
    "            get_all_file_path(dir)\n",
    "        if os.path.isfile(dir):\n",
    "            file_list.append(dir)\n",
    "    return file_list"
   ]
  },
  {
   "cell_type": "code",
   "execution_count": 34,
   "metadata": {},
   "outputs": [
    {
     "data": {
      "text/plain": [
       "['broken_file\\\\rating4\\\\very_helpful\\\\very_helpful.json']"
      ]
     },
     "execution_count": 34,
     "metadata": {},
     "output_type": "execute_result"
    }
   ],
   "source": [
    "#Q25: List the paths in the very_helpful directory of rating4 of broken_file.\n",
    "file_list = []\n",
    "get_all_file_path(os.path.join(\"broken_file\", \"rating4\", \"very_helpful\"))"
   ]
  },
  {
   "cell_type": "code",
   "execution_count": 35,
   "metadata": {},
   "outputs": [
    {
     "data": {
      "text/plain": [
       "['broken_file\\\\rating5\\\\others.json',\n",
       " 'broken_file\\\\rating5\\\\helpful\\\\helpful.json']"
      ]
     },
     "execution_count": 35,
     "metadata": {},
     "output_type": "execute_result"
    }
   ],
   "source": [
    "#Q26: List the paths of all the files in the rating5 directory of broken_file.\n",
    "file_list = []\n",
    "sorted(get_all_file_path(os.path.join(\"broken_file\", \"rating5\")),reverse = True)"
   ]
  },
  {
   "cell_type": "code",
   "execution_count": 36,
   "metadata": {},
   "outputs": [
    {
     "data": {
      "text/plain": [
       "['broken_file\\\\rating5\\\\others.json',\n",
       " 'broken_file\\\\rating5\\\\helpful\\\\helpful.json',\n",
       " 'broken_file\\\\rating4\\\\very_helpful\\\\very_helpful.json',\n",
       " 'broken_file\\\\rating4\\\\others\\\\short\\\\short.json',\n",
       " 'broken_file\\\\rating4\\\\others\\\\others\\\\others.json',\n",
       " 'broken_file\\\\rating4\\\\not_helpful.json',\n",
       " 'broken_file\\\\rating3\\\\others\\\\others.json',\n",
       " 'broken_file\\\\rating3\\\\long\\\\long.json',\n",
       " 'broken_file\\\\others.json']"
      ]
     },
     "execution_count": 36,
     "metadata": {},
     "output_type": "execute_result"
    }
   ],
   "source": [
    "#Q27: List the paths of all the files in the broken_file directory.\n",
    "file_list = []\n",
    "sorted(get_all_file_path(os.path.join(\"broken_file\")),reverse = True)"
   ]
  },
  {
   "cell_type": "code",
   "execution_count": 37,
   "metadata": {},
   "outputs": [
    {
     "data": {
      "text/plain": [
       "1"
      ]
     },
     "execution_count": 37,
     "metadata": {},
     "output_type": "execute_result"
    }
   ],
   "source": [
    "#Q28: Combine all the files in broken_file directory and find the number of unique products \n",
    "# being reviewed in these files.\n",
    "file_list = []\n",
    "def combine_broken_file():\n",
    "    json_file = sorted(get_all_file_path(os.path.join(\"broken_file\")),reverse = True)\n",
    "    broken_dict = {}\n",
    "    for file in json_file:\n",
    "        f = open(file, encoding = \"utf-8\")\n",
    "        json_str = f.read()\n",
    "        f.close()\n",
    "        data = json.loads(json_str)\n",
    "        for i in data:\n",
    "            broken_dict[i] = data[i]\n",
    "    return broken_dict\n",
    "\n",
    "def num_unique_product():\n",
    "    broken_file = combine_broken_file()\n",
    "    x = {}\n",
    "    for i in broken_file:\n",
    "        if broken_file[i][1] not in x:\n",
    "            x[broken_file[i][1]] = 1\n",
    "        else:\n",
    "            x[broken_file[i][1]] += 1\n",
    "    return x\n",
    "len(num_unique_product())"
   ]
  },
  {
   "cell_type": "code",
   "execution_count": 38,
   "metadata": {},
   "outputs": [],
   "source": [
    "def get_broken_reviews(csv,json_data):\n",
    "    list_review = []\n",
    "    Review = namedtuple(\"Review\",[\"id\", \"username\", \"asin\",\"title\",\"text\",\"rating\",\"do_recommend\",\"num_helpful\",\"date\"])\n",
    "    csv_data = read_csv(csv)\n",
    "    for j in json_data:\n",
    "        for c in csv_data:\n",
    "            if c[\"review id\"] != \"\" and c[\"review title\"] != \"\" and c[\"review text\"] != \"\" and c[\"review rating\"]!= \"\" and c[\"review date\"] != \"\" and c[\"review date\"]!=None:\n",
    "                if c[\"review id\"] == j and c[\"review rating\"].isdigit():\n",
    "                    list_review.append(Review(int(j), json_data[j][0], json_data[j][1], c[\"review title\"] , c[\"review text\"], int(c[\"review rating\"]), c[\"review do_recommend\"]==\"True\", int(c[\"review num_helpful\"]), c[\"review date\"]))\n",
    "    return list_review\n",
    "\n"
   ]
  },
  {
   "cell_type": "code",
   "execution_count": 39,
   "metadata": {},
   "outputs": [
    {
     "data": {
      "text/plain": [
       "4995"
      ]
     },
     "execution_count": 39,
     "metadata": {},
     "output_type": "execute_result"
    }
   ],
   "source": [
    "#Q29: Combine all the files in the directories data and broken_file, and find the total number of reviews.\n",
    "final_data = get_broken_reviews(\"review3.csv\", combine_broken_file())+ review_dataset()\n",
    "len(final_data)"
   ]
  },
  {
   "cell_type": "code",
   "execution_count": 40,
   "metadata": {},
   "outputs": [
    {
     "data": {
      "text/plain": [
       "-0.039407079451942564"
      ]
     },
     "execution_count": 40,
     "metadata": {},
     "output_type": "execute_result"
    }
   ],
   "source": [
    "#Q30: What is the percentage of change in the average rating changed for the product 'Fire Tablet, \n",
    "# 7 Display, Wi-Fi, 8 GB - Includes Special Offers, Magenta', because of the addition of the new data?\n",
    "def percentage_change(product_name):\n",
    "    before = avg_rating_each_product()[product_name]\n",
    "    product_list = read_json(\"products.json\")\n",
    "    sum = 0\n",
    "    count = 0\n",
    "    for i in product_list:\n",
    "        if product_list[i] == product_name:\n",
    "            asin = i\n",
    "    for r in final_data:\n",
    "        if getattr(r, 'asin') == asin:\n",
    "            sum += getattr(r, 'rating')\n",
    "            count +=1\n",
    "    after = sum/count\n",
    "    return (after-before)/before*100\n",
    "percentage_change('Fire Tablet, 7 Display, Wi-Fi, 8 GB - Includes Special Offers, Magenta')"
   ]
  }
 ],
 "metadata": {
  "kernelspec": {
   "display_name": "Python 3",
   "language": "python",
   "name": "python3"
  },
  "language_info": {
   "codemirror_mode": {
    "name": "ipython",
    "version": 3
   },
   "file_extension": ".py",
   "mimetype": "text/x-python",
   "name": "python",
   "nbconvert_exporter": "python",
   "pygments_lexer": "ipython3",
   "version": "3.7.6"
  }
 },
 "nbformat": 4,
 "nbformat_minor": 4
}
