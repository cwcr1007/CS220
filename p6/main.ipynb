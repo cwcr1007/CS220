{
 "cells": [
  {
   "cell_type": "code",
   "execution_count": 1,
   "metadata": {},
   "outputs": [],
   "source": [
    "# project: p6\n",
    "# submitter: zdai38\n",
    "# partner: none"
   ]
  },
  {
   "cell_type": "code",
   "execution_count": 2,
   "metadata": {},
   "outputs": [],
   "source": [
    "import csv\n",
    "\n",
    "# copied from https://automatetheboringstuff.com/chapter14/\n",
    "def process_csv(filename):\n",
    "    exampleFile = open(filename, encoding=\"utf-8\")\n",
    "    exampleReader = csv.reader(exampleFile)\n",
    "    exampleData = list(exampleReader)\n",
    "    exampleFile.close()\n",
    "    return exampleData\n",
    "\n",
    "# use process_csv to pull out the header and data rows\n",
    "csv_rows = process_csv(\"wine.csv\")\n",
    "csv_header = csv_rows[0]\n",
    "csv_data = csv_rows[1:]"
   ]
  },
  {
   "cell_type": "code",
   "execution_count": 3,
   "metadata": {},
   "outputs": [],
   "source": [
    "def cell(row_idx, col_name):\n",
    "    col_idx = csv_header.index(col_name)\n",
    "    val = csv_data[row_idx][col_idx]\n",
    "    if val == \"\":\n",
    "        return None\n",
    "    # optional: convert types based on column name?\n",
    "    if col_name == \"points\":\n",
    "        val = int(val)\n",
    "    elif col_name == \"price\":\n",
    "        val = float(val)\n",
    "    return val"
   ]
  },
  {
   "cell_type": "code",
   "execution_count": 4,
   "metadata": {},
   "outputs": [
    {
     "data": {
      "text/plain": [
       "['Argentina',\n",
       " 'Canada',\n",
       " 'Spain',\n",
       " 'Greece',\n",
       " 'Italy',\n",
       " 'Israel',\n",
       " 'Chile',\n",
       " 'Bulgaria',\n",
       " 'Germany',\n",
       " 'Moldova',\n",
       " 'Austria',\n",
       " 'Croatia',\n",
       " 'New Zealand',\n",
       " 'Romania',\n",
       " 'US',\n",
       " 'Morocco',\n",
       " 'Australia',\n",
       " 'Portugal',\n",
       " 'South Africa',\n",
       " 'Slovenia',\n",
       " 'France',\n",
       " 'India',\n",
       " 'Hungary']"
      ]
     },
     "execution_count": 4,
     "metadata": {},
     "output_type": "execute_result"
    }
   ],
   "source": [
    "#Q1: What countries are present in the wine dataset?\n",
    "def get_country_list():\n",
    "    country_list = []\n",
    "    for i in range(len(csv_data)):\n",
    "        if cell(i, \"country\") != None:\n",
    "            country_list.append(cell(i, \"country\"))\n",
    "    country_list = list(set(country_list))\n",
    "    return country_list\n",
    "get_country_list()"
   ]
  },
  {
   "cell_type": "code",
   "execution_count": 5,
   "metadata": {},
   "outputs": [
    {
     "data": {
      "text/plain": [
       "39.40787623066104"
      ]
     },
     "execution_count": 5,
     "metadata": {},
     "output_type": "execute_result"
    }
   ],
   "source": [
    "#Q2: What is the average price of wine?\n",
    "def average_price():\n",
    "    total = 0\n",
    "    count = 0\n",
    "    for i in range(len(csv_data)):\n",
    "        if cell(i,\"price\") != None:\n",
    "            total += cell(i,\"price\")\n",
    "            count += 1\n",
    "    avg = total/count\n",
    "    return avg\n",
    "\n",
    "average_price()"
   ]
  },
  {
   "cell_type": "code",
   "execution_count": 6,
   "metadata": {},
   "outputs": [
    {
     "data": {
      "text/plain": [
       "['Spy Valley', 'Felton Road', 'Kumeu River']"
      ]
     },
     "execution_count": 6,
     "metadata": {},
     "output_type": "execute_result"
    }
   ],
   "source": [
    "#Q3: List all wineries which produce wine in New Zealand?\n",
    "def get_winery(country):\n",
    "    winery_list=[]\n",
    "    for i in range(len(csv_data)):\n",
    "        if cell(i,\"country\") == country and cell(i,\"winery\") != None:\n",
    "            winery_list.append(cell(i,\"winery\"))\n",
    "    winery_list = list(set(winery_list))\n",
    "    return winery_list\n",
    "get_winery(\"New Zealand\")"
   ]
  },
  {
   "cell_type": "code",
   "execution_count": 7,
   "metadata": {},
   "outputs": [
    {
     "data": {
      "text/plain": [
       "['Merlot',\n",
       " 'Zinfandel',\n",
       " 'Aglianico',\n",
       " 'Lemberger',\n",
       " 'Nebbiolo',\n",
       " 'Cabernet Sauvignon',\n",
       " 'Bordeaux-style Red Blend',\n",
       " 'Pinot Noir',\n",
       " 'Sangiovese',\n",
       " 'Meritage',\n",
       " 'Rosé',\n",
       " 'Cabernet Franc',\n",
       " 'Blaufränkisch']"
      ]
     },
     "execution_count": 7,
     "metadata": {},
     "output_type": "execute_result"
    }
   ],
   "source": [
    "#Q4: Which wine varieties contain the phrase \"cranberry\" in the description?\n",
    "def variety_search(word):\n",
    "    variety_list = []\n",
    "    for i in range(len(csv_data)):\n",
    "         if word in cell(i,\"description\"):\n",
    "                variety_list.append(cell(i,\"variety\"))\n",
    "    variety_list = list(set(variety_list))\n",
    "    return variety_list\n",
    "variety_search(\"cranberry\")"
   ]
  },
  {
   "cell_type": "code",
   "execution_count": 8,
   "metadata": {},
   "outputs": [
    {
     "data": {
      "text/plain": [
       "['Chardonnay', 'Sparkling Blend', 'Pinot Grigio']"
      ]
     },
     "execution_count": 8,
     "metadata": {},
     "output_type": "execute_result"
    }
   ],
   "source": [
    "#Q5: Which wine varieties contain the phrase \"lemon-lime soda\" in the description?\n",
    "variety_search(\"lemon-lime soda\")"
   ]
  },
  {
   "cell_type": "code",
   "execution_count": 9,
   "metadata": {},
   "outputs": [
    {
     "data": {
      "text/plain": [
       "['Tinta de Toro', 'Tempranillo', 'Castelão', 'Cabernet Sauvignon', 'Red Blend']"
      ]
     },
     "execution_count": 9,
     "metadata": {},
     "output_type": "execute_result"
    }
   ],
   "source": [
    "#Q6: Which wine varieties contain the phrase \"black-fruit\" in their description?\n",
    "variety_search(\"black-fruit\")"
   ]
  },
  {
   "cell_type": "code",
   "execution_count": 10,
   "metadata": {},
   "outputs": [
    {
     "data": {
      "text/plain": [
       "['Cabernet Sauvignon']"
      ]
     },
     "execution_count": 10,
     "metadata": {},
     "output_type": "execute_result"
    }
   ],
   "source": [
    "#Q7: Which wine varieties are anagrams of the phrase \"antibus governance\"?\n",
    "def variety_anagram(word):\n",
    "    variety_list = []\n",
    "    for i in range(len(csv_data)):\n",
    "        if sorted(word.upper()) == sorted(cell(i,\"variety\").upper()):\n",
    "            variety_list.append(cell(i,\"variety\"))\n",
    "    variety_list = list(set(variety_list))\n",
    "    return variety_list\n",
    "variety_anagram(\"antibus governance\")"
   ]
  },
  {
   "cell_type": "code",
   "execution_count": 11,
   "metadata": {},
   "outputs": [
    {
     "data": {
      "text/plain": [
       "123"
      ]
     },
     "execution_count": 11,
     "metadata": {},
     "output_type": "execute_result"
    }
   ],
   "source": [
    "#Q8: How many unique wineries, produce the wine variety \"Pinot Noir\"?\n",
    "def count_winery_search(word):\n",
    "    winery_list = []\n",
    "    for i in range(len(csv_data)):\n",
    "         if word == cell(i,\"variety\"):\n",
    "                winery_list.append(cell(i,\"winery\"))\n",
    "    winery_list = list(set(winery_list))\n",
    "    count = len(winery_list)\n",
    "    return count\n",
    "count_winery_search(\"Pinot Noir\")"
   ]
  },
  {
   "cell_type": "code",
   "execution_count": 12,
   "metadata": {},
   "outputs": [
    {
     "data": {
      "text/plain": [
       "['Tinta de Toro']"
      ]
     },
     "execution_count": 12,
     "metadata": {},
     "output_type": "execute_result"
    }
   ],
   "source": [
    "#Q9: What is the highest-rated wine variety made in \"Spain\"?\n",
    "def highest_rate_variety(country):\n",
    "    variety_list = []\n",
    "    highest_rate = 0\n",
    "    for i in range(len(csv_data)):\n",
    "        if cell(i,\"country\") == country and cell(i,\"points\") >= highest_rate:\n",
    "            highest_rate = cell(i,\"points\")\n",
    "    for i in range(len(csv_data)):\n",
    "        if cell(i,\"points\") == highest_rate and cell(i,\"country\") == country:\n",
    "            variety_list.append(cell(i,\"variety\"))\n",
    "    return variety_list\n",
    "highest_rate_variety(\"Spain\")"
   ]
  },
  {
   "cell_type": "code",
   "execution_count": 13,
   "metadata": {},
   "outputs": [
    {
     "data": {
      "text/plain": [
       "['Gaja']"
      ]
     },
     "execution_count": 13,
     "metadata": {},
     "output_type": "execute_result"
    }
   ],
   "source": [
    "#Q10: Which winery produces the highest-priced wine in \"Italy\"?\n",
    "def highest_price_winery(country):\n",
    "    winery_list = []\n",
    "    highest_price = 0\n",
    "    for i in range(len(csv_data)):\n",
    "        if cell(i,\"price\") != None:\n",
    "            if cell(i,\"country\") == country and cell(i,\"price\") >= highest_price:\n",
    "                highest_price = cell(i,\"price\")\n",
    "    for i in range(len(csv_data)):\n",
    "        if cell(i,\"price\") != None:\n",
    "            if cell(i,\"price\") == highest_price and cell(i,\"country\") == country:\n",
    "                winery_list.append(cell(i,\"winery\"))\n",
    "    return winery_list\n",
    "highest_price_winery(\"Italy\")"
   ]
  },
  {
   "cell_type": "code",
   "execution_count": 14,
   "metadata": {},
   "outputs": [
    {
     "data": {
      "text/plain": [
       "1.98628003003003"
      ]
     },
     "execution_count": 14,
     "metadata": {},
     "output_type": "execute_result"
    }
   ],
   "source": [
    "#Q11: What is the average points-per-dollar (PPD) ratio of the \"Patricia Green Cellars\" winery?\n",
    "def ppd_ratio(winery):\n",
    "    sum = 0\n",
    "    count = 0\n",
    "    result = None\n",
    "    for i in range(len(csv_data)):\n",
    "        if cell(i,\"winery\") == winery:\n",
    "            if cell(i,\"points\") != None and cell(i,\"price\") != None:\n",
    "                sum += cell(i,\"points\")/cell(i,\"price\")\n",
    "                count += 1\n",
    "    if count == 0:\n",
    "        result = 0\n",
    "    else:\n",
    "        result = sum/count\n",
    "    return result\n",
    "ppd_ratio(\"Patricia Green Cellars\")"
   ]
  },
  {
   "cell_type": "code",
   "execution_count": 15,
   "metadata": {},
   "outputs": [
    {
     "data": {
      "text/plain": [
       "0.2923076923076923"
      ]
     },
     "execution_count": 15,
     "metadata": {},
     "output_type": "execute_result"
    }
   ],
   "source": [
    "#Q12: What is the average PPD of the \"Hall\" winery?\n",
    "ppd_ratio(\"Hall\")"
   ]
  },
  {
   "cell_type": "code",
   "execution_count": 16,
   "metadata": {},
   "outputs": [
    {
     "data": {
      "text/plain": [
       "['Grand Pacific']"
      ]
     },
     "execution_count": 16,
     "metadata": {},
     "output_type": "execute_result"
    }
   ],
   "source": [
    "#Q13: Which wineries in US have the highest average PPD?\n",
    "def winery_ppd(condition, country):\n",
    "    ppd = None\n",
    "    winery_list = get_winery(country)\n",
    "    the_list = []\n",
    "    if condition == \"highest\":\n",
    "        for i in range(len(csv_data)):\n",
    "            for w in range(len(winery_list)):\n",
    "                if cell(i,\"winery\") == winery_list[w] and ppd == None:\n",
    "                    ppd = ppd_ratio(winery_list[w])\n",
    "                if cell(i,\"winery\") == winery_list[w] and ppd_ratio(winery_list[w]) >= ppd:\n",
    "                    ppd = ppd_ratio(winery_list[w])\n",
    "        for w in range(len(winery_list)):\n",
    "            if ppd_ratio(winery_list[w]) == ppd:\n",
    "                the_list.append(winery_list[w])\n",
    "    else:\n",
    "        for i in range(len(csv_data)):\n",
    "            for w in range(len(winery_list)):\n",
    "                if cell(i,\"winery\") == winery_list[w] and ppd == None:\n",
    "                    ppd = ppd_ratio(winery_list[w])\n",
    "                if cell(i,\"winery\") == winery_list[w] and ppd_ratio(winery_list[w]) <= ppd:\n",
    "                    ppd = ppd_ratio(winery_list[w])\n",
    "        for w in range(len(winery_list)):\n",
    "            if ppd_ratio(winery_list[w]) == ppd:\n",
    "                the_list.append(winery_list[w])\n",
    "    return the_list\n",
    "winery_ppd(\"highest\",\"US\")"
   ]
  },
  {
   "cell_type": "code",
   "execution_count": 17,
   "metadata": {},
   "outputs": [
    {
     "data": {
      "text/plain": [
       "['Essay', 'Long Neck', 'KWV', 'Robertson Winery']"
      ]
     },
     "execution_count": 17,
     "metadata": {},
     "output_type": "execute_result"
    }
   ],
   "source": [
    "#Q14: Which wineries in South Africa have the highest average PPD?\n",
    "winery_ppd(\"highest\", \"South Africa\")"
   ]
  },
  {
   "cell_type": "code",
   "execution_count": 18,
   "metadata": {},
   "outputs": [
    {
     "data": {
      "text/plain": [
       "['Bodega Las Cañitas']"
      ]
     },
     "execution_count": 18,
     "metadata": {},
     "output_type": "execute_result"
    }
   ],
   "source": [
    "#Q15: which wineies in Argentina have the lowest average PPD?\n",
    "winery_ppd(\"lowest\", \"Argentina\")"
   ]
  },
  {
   "cell_type": "code",
   "execution_count": 19,
   "metadata": {},
   "outputs": [
    {
     "data": {
      "text/plain": [
       "['Cabernet Franc']"
      ]
     },
     "execution_count": 19,
     "metadata": {},
     "output_type": "execute_result"
    }
   ],
   "source": [
    "#Q16: Which wine varieties are produced by the \"Ironstone\" winery?\n",
    "def variety_by_winery(winery):\n",
    "    variety_list = []\n",
    "    for i in range(len(csv_data)):\n",
    "        if cell(i, \"winery\") == winery:\n",
    "            variety_list.append(cell(i, \"variety\"))\n",
    "    return variety_list\n",
    "variety_by_winery(\"Ironstone\")"
   ]
  },
  {
   "cell_type": "code",
   "execution_count": 20,
   "metadata": {},
   "outputs": [
    {
     "data": {
      "text/plain": [
       "['Portuguese White', 'Portuguese Rosé', 'Portuguese Red']"
      ]
     },
     "execution_count": 20,
     "metadata": {},
     "output_type": "execute_result"
    }
   ],
   "source": [
    "#Q17: Which wine varieties are produced by the \"Quinta Nova de Nossa Senhora do Carmo\" winery?\n",
    "variety_by_winery(\"Quinta Nova de Nossa Senhora do Carmo\")"
   ]
  },
  {
   "cell_type": "code",
   "execution_count": 21,
   "metadata": {},
   "outputs": [
    {
     "data": {
      "text/plain": [
       "7.6923076923076925"
      ]
     },
     "execution_count": 21,
     "metadata": {},
     "output_type": "execute_result"
    }
   ],
   "source": [
    "#Q18: What percentage of wine varieties that contain the word \"cranberry\" in its description also contain the phrase \"black-fruit\" in its description? See Q4 and Q6.\n",
    "def ratio():\n",
    "    list1 = variety_search(\"cranberry\")\n",
    "    list2 = variety_search(\"black-fruit\")\n",
    "    count_intersection = 0\n",
    "    for i in range(len(list1)):\n",
    "        for j in range(len(list2)):\n",
    "            if list1[i] == list2[j]:\n",
    "                count_intersection += 1\n",
    "    result = count_intersection/len(list1)\n",
    "    return result * 100\n",
    "ratio()"
   ]
  },
  {
   "cell_type": "code",
   "execution_count": 22,
   "metadata": {},
   "outputs": [
    {
     "data": {
      "text/plain": [
       "130.0"
      ]
     },
     "execution_count": 22,
     "metadata": {},
     "output_type": "execute_result"
    }
   ],
   "source": [
    "#Q19: What is the price of the most expensive wine that you could find in Portugal?\n",
    "def highest_price_by_country(country):\n",
    "    highest_price = 0\n",
    "    for i in range(len(csv_data)):\n",
    "        if cell(i,\"price\") != None:\n",
    "            if cell(i,\"country\") == country and cell(i,\"price\") >= highest_price:\n",
    "                highest_price = cell(i,\"price\")\n",
    "    return highest_price\n",
    "highest_price_by_country(\"Portugal\")"
   ]
  },
  {
   "cell_type": "code",
   "execution_count": 23,
   "metadata": {},
   "outputs": [
    {
     "data": {
      "text/plain": [
       "281.0"
      ]
     },
     "execution_count": 23,
     "metadata": {},
     "output_type": "execute_result"
    }
   ],
   "source": [
    "#Q20: What is the total cost of buying two bottles of the most expensive wine and three bottles of the cheapest wine in Portugal?\n",
    "def lowest_price_by_country(country):\n",
    "    lowest_price = None\n",
    "    for i in range(len(csv_data)):\n",
    "        if cell(i,\"price\") != None:\n",
    "            if cell(i,\"country\") == country and lowest_price == None:\n",
    "                lowest_price = cell(i,\"price\")\n",
    "            elif cell(i,\"country\") == country and cell(i,\"price\") <= lowest_price:\n",
    "                lowest_price = cell(i,\"price\")\n",
    "    return lowest_price\n",
    "total_cost = 2 * highest_price_by_country(\"Portugal\") + 3 * lowest_price_by_country(\"Portugal\")\n",
    "total_cost"
   ]
  },
  {
   "cell_type": "code",
   "execution_count": null,
   "metadata": {},
   "outputs": [],
   "source": []
  }
 ],
 "metadata": {
  "kernelspec": {
   "display_name": "Python 3",
   "language": "python",
   "name": "python3"
  },
  "language_info": {
   "codemirror_mode": {
    "name": "ipython",
    "version": 3
   },
   "file_extension": ".py",
   "mimetype": "text/x-python",
   "name": "python",
   "nbconvert_exporter": "python",
   "pygments_lexer": "ipython3",
   "version": "3.7.6"
  }
 },
 "nbformat": 4,
 "nbformat_minor": 4
}
