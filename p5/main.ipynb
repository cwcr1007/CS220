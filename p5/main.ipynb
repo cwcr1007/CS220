{
 "cells": [
  {
   "cell_type": "code",
   "execution_count": 1,
   "metadata": {},
   "outputs": [],
   "source": [
    "# project: p5\n",
    "# submitter: zdai38\n",
    "# partner: none"
   ]
  },
  {
   "cell_type": "code",
   "execution_count": 2,
   "metadata": {},
   "outputs": [],
   "source": [
    "import project\n",
    "import math"
   ]
  },
  {
   "cell_type": "code",
   "execution_count": 3,
   "metadata": {},
   "outputs": [
    {
     "data": {
      "text/plain": [
       "['__builtins__',\n",
       " '__cached__',\n",
       " '__doc__',\n",
       " '__file__',\n",
       " '__hurricane__',\n",
       " '__init__',\n",
       " '__loader__',\n",
       " '__name__',\n",
       " '__package__',\n",
       " '__spec__',\n",
       " 'count',\n",
       " 'get_damage',\n",
       " 'get_deaths',\n",
       " 'get_dissipated',\n",
       " 'get_formed',\n",
       " 'get_mph',\n",
       " 'get_name']"
      ]
     },
     "execution_count": 3,
     "metadata": {},
     "output_type": "execute_result"
    }
   ],
   "source": [
    "dir(project)"
   ]
  },
  {
   "cell_type": "code",
   "execution_count": 4,
   "metadata": {},
   "outputs": [
    {
     "data": {
      "text/plain": [
       "133"
      ]
     },
     "execution_count": 4,
     "metadata": {},
     "output_type": "execute_result"
    }
   ],
   "source": [
    "#q1\n",
    "project.count()"
   ]
  },
  {
   "cell_type": "code",
   "execution_count": 5,
   "metadata": {},
   "outputs": [
    {
     "data": {
      "text/plain": [
       "'Omar'"
      ]
     },
     "execution_count": 5,
     "metadata": {},
     "output_type": "execute_result"
    }
   ],
   "source": [
    "#q2\n",
    "project.get_name(project.count()-1)"
   ]
  },
  {
   "cell_type": "code",
   "execution_count": 6,
   "metadata": {},
   "outputs": [
    {
     "data": {
      "text/plain": [
       "72"
      ]
     },
     "execution_count": 6,
     "metadata": {},
     "output_type": "execute_result"
    }
   ],
   "source": [
    "#q3\n",
    "project.get_deaths(10)"
   ]
  },
  {
   "cell_type": "code",
   "execution_count": 7,
   "metadata": {},
   "outputs": [
    {
     "data": {
      "text/plain": [
       "True"
      ]
     },
     "execution_count": 7,
     "metadata": {},
     "output_type": "execute_result"
    }
   ],
   "source": [
    "#q4\n",
    "is_name = False\n",
    "for i in range(project.count()):\n",
    "    if project.get_name(i) == \"Bob\":\n",
    "        is_name =  True\n",
    "        break\n",
    "is_name"
   ]
  },
  {
   "cell_type": "code",
   "execution_count": 8,
   "metadata": {},
   "outputs": [
    {
     "data": {
      "text/plain": [
       "3"
      ]
     },
     "execution_count": 8,
     "metadata": {},
     "output_type": "execute_result"
    }
   ],
   "source": [
    "#q5\n",
    "count = 0\n",
    "for i in range(project.count()):\n",
    "    if project.get_name(i).upper() == \"FLORENCE\":\n",
    "        count += 1\n",
    "count"
   ]
  },
  {
   "cell_type": "code",
   "execution_count": 9,
   "metadata": {},
   "outputs": [
    {
     "data": {
      "text/plain": [
       "190"
      ]
     },
     "execution_count": 9,
     "metadata": {},
     "output_type": "execute_result"
    }
   ],
   "source": [
    "#q6\n",
    "def max_mph_index():\n",
    "    mph = 0\n",
    "    mph_index = 0\n",
    "    for i in range(project.count()):\n",
    "        if project.get_mph(i) > mph:\n",
    "            mph = project.get_mph(i)\n",
    "            mph_index = i\n",
    "    return mph_index\n",
    "max_mph_index()\n",
    "project.get_mph(max_mph_index())"
   ]
  },
  {
   "cell_type": "code",
   "execution_count": 10,
   "metadata": {},
   "outputs": [
    {
     "data": {
      "text/plain": [
       "'Allen'"
      ]
     },
     "execution_count": 10,
     "metadata": {},
     "output_type": "execute_result"
    }
   ],
   "source": [
    "#q7\n",
    "project.get_name(max_mph_index())"
   ]
  },
  {
   "cell_type": "code",
   "execution_count": 11,
   "metadata": {},
   "outputs": [
    {
     "data": {
      "text/plain": [
       "1570000000.0"
      ]
     },
     "execution_count": 11,
     "metadata": {},
     "output_type": "execute_result"
    }
   ],
   "source": [
    "#q8\n",
    "def format_damage(damage):\n",
    "    if damage[-1] == \"K\":\n",
    "        unit = 1000\n",
    "    elif damage[-1] == \"M\":\n",
    "        unit = 1000000\n",
    "    else:\n",
    "        unit = 1000000000\n",
    "    num = float(damage[:len(damage)-1])\n",
    "    return num * unit\n",
    "\n",
    "format_damage(project.get_damage(max_mph_index()))"
   ]
  },
  {
   "cell_type": "code",
   "execution_count": 12,
   "metadata": {},
   "outputs": [
    {
     "data": {
      "text/plain": [
       "18960"
      ]
     },
     "execution_count": 12,
     "metadata": {},
     "output_type": "execute_result"
    }
   ],
   "source": [
    "#q9\n",
    "total_death = 0\n",
    "for i in range(project.count()):\n",
    "    total_death += project.get_deaths(i)\n",
    "total_death"
   ]
  },
  {
   "cell_type": "code",
   "execution_count": 13,
   "metadata": {},
   "outputs": [],
   "source": [
    "def get_year(date):\n",
    "    return int(date[6:])\n",
    "    \n",
    "def deadliest_in_range(year1, year2):\n",
    "    worst_idx = None\n",
    "    for i in range(project.count()):\n",
    "        if get_year(project.get_formed(i)) >= year1 and get_year(project.get_formed(i)) <= year2:  # TODO: check if year is in range\n",
    "            if worst_idx == None or project.get_deaths(i) > project.get_deaths(worst_idx):  # TODO: it is worse than previous?\n",
    "                worst_idx = i   # TODO: finish this code!\n",
    "    return worst_idx"
   ]
  },
  {
   "cell_type": "code",
   "execution_count": 14,
   "metadata": {},
   "outputs": [
    {
     "data": {
      "text/plain": [
       "'Maria'"
      ]
     },
     "execution_count": 14,
     "metadata": {},
     "output_type": "execute_result"
    }
   ],
   "source": [
    "#q10\n",
    "project.get_name(deadliest_in_range(2010,2020))"
   ]
  },
  {
   "cell_type": "code",
   "execution_count": 15,
   "metadata": {},
   "outputs": [
    {
     "data": {
      "text/plain": [
       "'Inez'"
      ]
     },
     "execution_count": 15,
     "metadata": {},
     "output_type": "execute_result"
    }
   ],
   "source": [
    "#q11\n",
    "project.get_name(deadliest_in_range(1901,2000))"
   ]
  },
  {
   "cell_type": "code",
   "execution_count": 16,
   "metadata": {},
   "outputs": [
    {
     "data": {
      "text/plain": [
       "1899"
      ]
     },
     "execution_count": 16,
     "metadata": {},
     "output_type": "execute_result"
    }
   ],
   "source": [
    "#q12\n",
    "def deadliest():\n",
    "    worst_idx = None\n",
    "    for i in range(project.count()):\n",
    "        if worst_idx == None or project.get_deaths(i) > project.get_deaths(worst_idx):  # TODO: it is worse than previous?\n",
    "            worst_idx = i\n",
    "    return worst_idx\n",
    "get_year(project.get_formed(deadliest()))"
   ]
  },
  {
   "cell_type": "code",
   "execution_count": 17,
   "metadata": {},
   "outputs": [
    {
     "data": {
      "text/plain": [
       "91610000000.0"
      ]
     },
     "execution_count": 17,
     "metadata": {},
     "output_type": "execute_result"
    }
   ],
   "source": [
    "#q13\n",
    "format_damage(project.get_damage(deadliest_in_range(2000, 2099)))"
   ]
  },
  {
   "cell_type": "code",
   "execution_count": 18,
   "metadata": {},
   "outputs": [
    {
     "data": {
      "text/plain": [
       "864830465000.0"
      ]
     },
     "execution_count": 18,
     "metadata": {},
     "output_type": "execute_result"
    }
   ],
   "source": [
    "#q14\n",
    "total_damage = 0\n",
    "for i in range(project.count()):\n",
    "    total_damage += format_damage(project.get_damage(i))\n",
    "total_damage"
   ]
  },
  {
   "cell_type": "code",
   "execution_count": 19,
   "metadata": {},
   "outputs": [],
   "source": [
    "def get_month(date):\n",
    "    return int(date[0:2])\n",
    "\n",
    "# return number of huricanes formed in month mm\n",
    "def hurricanes_in_month(mm):\n",
    "    mm = int(mm)\n",
    "    num_of_hurricanes = 0\n",
    "    for i in range(project.count()):\n",
    "        if get_month(project.get_formed(i)) == mm:\n",
    "            num_of_hurricanes += 1\n",
    "    return num_of_hurricanes"
   ]
  },
  {
   "cell_type": "code",
   "execution_count": 20,
   "metadata": {},
   "outputs": [
    {
     "data": {
      "text/plain": [
       "4"
      ]
     },
     "execution_count": 20,
     "metadata": {},
     "output_type": "execute_result"
    }
   ],
   "source": [
    "#q15 \n",
    "hurricanes_in_month(\"06\")"
   ]
  },
  {
   "cell_type": "code",
   "execution_count": 21,
   "metadata": {},
   "outputs": [
    {
     "data": {
      "text/plain": [
       "3"
      ]
     },
     "execution_count": 21,
     "metadata": {},
     "output_type": "execute_result"
    }
   ],
   "source": [
    "#q16\n",
    "hurricanes_in_month(\"01\")"
   ]
  },
  {
   "cell_type": "code",
   "execution_count": 22,
   "metadata": {},
   "outputs": [
    {
     "data": {
      "text/plain": [
       "9"
      ]
     },
     "execution_count": 22,
     "metadata": {},
     "output_type": "execute_result"
    }
   ],
   "source": [
    "#q17\n",
    "def most_hurricanes():\n",
    "    max_month = None\n",
    "    for i in range(12):\n",
    "         if max_month == None or hurricanes_in_month(i+1) > hurricanes_in_month(max_month):\n",
    "                max_month = i+1\n",
    "    return max_month\n",
    "most_hurricanes()"
   ]
  },
  {
   "cell_type": "code",
   "execution_count": 23,
   "metadata": {},
   "outputs": [
    {
     "data": {
      "text/plain": [
       "25"
      ]
     },
     "execution_count": 23,
     "metadata": {},
     "output_type": "execute_result"
    }
   ],
   "source": [
    "#q18\n",
    "def hurricanes_in_year(yyyy):\n",
    "    num_of_hurricanes = 0\n",
    "    for i in range(project.count()):\n",
    "        if get_year(project.get_formed(i)) == yyyy:\n",
    "            num_of_hurricanes += 1\n",
    "    return num_of_hurricanes\n",
    "\n",
    "def hurricanes_in_range(year1, year2):\n",
    "    num_hurricanse = 0\n",
    "    for i in range(year2 - year1 + 1):\n",
    "        num_hurricanse += hurricanes_in_year(year1 + i)\n",
    "    return num_hurricanse\n",
    "\n",
    "hurricanes_in_range(1990,1999)"
   ]
  },
  {
   "cell_type": "code",
   "execution_count": 24,
   "metadata": {},
   "outputs": [],
   "source": [
    "def max_year():\n",
    "    year = None\n",
    "    for i in range(project.count()):\n",
    "        if year == None or get_year(project.get_formed(i)) > year:\n",
    "            year = get_year(project.get_formed(i))\n",
    "    return year\n",
    "def min_year():\n",
    "    year = None\n",
    "    for i in range(project.count()):\n",
    "        if year == None or get_year(project.get_formed(i)) < year:\n",
    "            year = get_year(project.get_formed(i))\n",
    "    return year\n",
    "\n",
    "year1 = min_year()\n",
    "year2 = max_year()"
   ]
  },
  {
   "cell_type": "code",
   "execution_count": 25,
   "metadata": {},
   "outputs": [
    {
     "data": {
      "text/plain": [
       "16"
      ]
     },
     "execution_count": 25,
     "metadata": {},
     "output_type": "execute_result"
    }
   ],
   "source": [
    "#q19\n",
    "def most_deaths_hurricane(year):\n",
    "    deaths = 0\n",
    "    for i in range(project.count()):\n",
    "        if get_year(project.get_formed(i)) == year:\n",
    "            if project.get_deaths(i) > deaths:\n",
    "                deaths = project.get_deaths(i)\n",
    "    return deaths\n",
    "\n",
    "def num_hurricanes_200_deaths():\n",
    "    count = 0\n",
    "    for i in range(year2 - year1 + 1):\n",
    "        if most_deaths_hurricane(year1 + i) > 200:\n",
    "            count += 1\n",
    "    return count\n",
    "num_hurricanes_200_deaths()"
   ]
  },
  {
   "cell_type": "code",
   "execution_count": 26,
   "metadata": {},
   "outputs": [
    {
     "data": {
      "text/plain": [
       "11"
      ]
     },
     "execution_count": 26,
     "metadata": {},
     "output_type": "execute_result"
    }
   ],
   "source": [
    "#q20\n",
    "def most_damage_hurricane(year):\n",
    "    damage = 0\n",
    "    for i in range(project.count()):\n",
    "        if get_year(project.get_formed(i)) == year:\n",
    "            if format_damage(project.get_damage(i)) > damage:\n",
    "                damage = format_damage(project.get_damage(i))\n",
    "    return damage\n",
    "\n",
    "def num_hurricanes_10B_damage():\n",
    "    count = 0\n",
    "    for i in range(year2 - year1 + 1):\n",
    "        if most_damage_hurricane(year1 + i) > 10000000000:\n",
    "            count += 1\n",
    "    return count\n",
    "num_hurricanes_10B_damage()"
   ]
  },
  {
   "cell_type": "code",
   "execution_count": null,
   "metadata": {},
   "outputs": [],
   "source": []
  }
 ],
 "metadata": {
  "kernelspec": {
   "display_name": "Python 3",
   "language": "python",
   "name": "python3"
  },
  "language_info": {
   "codemirror_mode": {
    "name": "ipython",
    "version": 3
   },
   "file_extension": ".py",
   "mimetype": "text/x-python",
   "name": "python",
   "nbconvert_exporter": "python",
   "pygments_lexer": "ipython3",
   "version": "3.7.6"
  }
 },
 "nbformat": 4,
 "nbformat_minor": 4
}
